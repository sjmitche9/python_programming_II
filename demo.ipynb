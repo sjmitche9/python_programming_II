{
 "cells": [
  {
   "cell_type": "markdown",
   "metadata": {},
   "source": [
    "## Agenda\n",
    "\n",
    "- functions\n",
    "\t- use cases\n",
    "\t- anatomy\n",
    "\t- best practices\n",
    "- problem solving approaches\n",
    "\t- breaking a problem down\n",
    "\t- pseudocode\n",
    "\t- usage of lists/dicts/tuples/sets\n",
    "- rot13 challenge"
   ]
  },
  {
   "cell_type": "markdown",
   "metadata": {},
   "source": [
    "- chunk of code that can be referenced or \"called\" anytime after the function is defined\n",
    "- great for replacing similar code that is repeated multiple times\n",
    "- allow us to organize code and make it more readable and understandable\n",
    "- as a general rule, **if you can give a simple name to describe what a section of code does, it should be a function**\n",
    "this is called *modular programming*, and it will make your code both easier to write and understand."
   ]
  },
  {
   "cell_type": "code",
   "execution_count": null,
   "metadata": {},
   "outputs": [],
   "source": [
    "# example function\n",
    "def say_hello(name):\n",
    "\tprint('Hello, ', name, '!')"
   ]
  },
  {
   "cell_type": "code",
   "execution_count": 8,
   "metadata": {},
   "outputs": [
    {
     "name": "stdout",
     "output_type": "stream",
     "text": [
      "Hello,  Steve !\n"
     ]
    }
   ],
   "source": [
    "say_hello(name='Steve')"
   ]
  },
  {
   "cell_type": "code",
   "execution_count": null,
   "metadata": {},
   "outputs": [],
   "source": [
    "# example function\n",
    "def say_hello(name, surname=''):\n",
    "\tprint(f'Hello, {name} {surname}!')"
   ]
  },
  {
   "cell_type": "code",
   "execution_count": 10,
   "metadata": {},
   "outputs": [
    {
     "name": "stdout",
     "output_type": "stream",
     "text": [
      "Hello, Steve Mitchell!\n"
     ]
    }
   ],
   "source": [
    "say_hello(name='Steve', surname='Mitchell')"
   ]
  },
  {
   "cell_type": "code",
   "execution_count": 11,
   "metadata": {},
   "outputs": [
    {
     "name": "stdout",
     "output_type": "stream",
     "text": [
      "Hello, Steve Mitchell!\n"
     ]
    }
   ],
   "source": [
    "say_hello(surname='Mitchell', name='Steve')"
   ]
  },
  {
   "cell_type": "code",
   "execution_count": 12,
   "metadata": {},
   "outputs": [
    {
     "name": "stdout",
     "output_type": "stream",
     "text": [
      "Hello, Steve Mitchell!\n"
     ]
    }
   ],
   "source": [
    "say_hello('Steve', 'Mitchell')"
   ]
  },
  {
   "cell_type": "code",
   "execution_count": 13,
   "metadata": {},
   "outputs": [
    {
     "name": "stdout",
     "output_type": "stream",
     "text": [
      "Hello, Steve Mitchell!\n"
     ]
    }
   ],
   "source": [
    "say_hello('Steve', surname='Mitchell')"
   ]
  },
  {
   "cell_type": "code",
   "execution_count": 14,
   "metadata": {},
   "outputs": [
    {
     "ename": "SyntaxError",
     "evalue": "positional argument follows keyword argument (1826263546.py, line 1)",
     "output_type": "error",
     "traceback": [
      "\u001b[1;36m  Cell \u001b[1;32mIn[14], line 1\u001b[1;36m\u001b[0m\n\u001b[1;33m    say_hello(name='Steve', 'Mitchell')\u001b[0m\n\u001b[1;37m                                      ^\u001b[0m\n\u001b[1;31mSyntaxError\u001b[0m\u001b[1;31m:\u001b[0m positional argument follows keyword argument\n"
     ]
    }
   ],
   "source": [
    "say_hello(name='Steve', 'Mitchell')"
   ]
  },
  {
   "cell_type": "markdown",
   "metadata": {},
   "source": [
    "### Function Use Cases"
   ]
  },
  {
   "cell_type": "markdown",
   "metadata": {},
   "source": [
    "##### Organization\n",
    "- as projects get larger, organization becomes more difficult\n",
    "- functions act like miniature 'programs' that perform a task we frequently need\n",
    "- this allows us to break a large project into smaller, more manageable chunks"
   ]
  },
  {
   "cell_type": "markdown",
   "metadata": {},
   "source": [
    "##### Reusability\n",
    "- functions only have to be written once, and can be used many times within a project\n",
    "- avoid duplicated code\n",
    "- reduce the possibility of copy-paste errors\n",
    "- can be reused in another project\n",
    "\t- reduce the amount of rewriting (and retesting) from scratch\n",
    "\n",
    "**Don't Repeat Yourself** (The DRY Principle)\n",
    "\n",
    "- DRY principle encourages writing code in a way that avoids repetition.\n",
    "- every piece of knowledge or logic in your code should have a single, unambiguous, and authoritative representation.\n",
    "- prevents Redundancy: repeated code increases the chances of introducing bugs and inconsistencies.\n",
    "- improves Maintainability: when code changes, you only need to update it in one place.\n",
    "- increases Readability: clean, concise code is easier to understand."
   ]
  },
  {
   "cell_type": "markdown",
   "metadata": {},
   "source": [
    "##### Extensibility\n",
    "- sometimes we need to change our code's behavior slightly\n",
    "- a change only has to be made in one place (in the function definition) for it to take effect everywhere the function is used"
   ]
  },
  {
   "cell_type": "markdown",
   "metadata": {},
   "source": [
    "##### Abstraction\n",
    "- to use a function, you don't need to know how it works, only:\n",
    "\t- its name\n",
    "\t- its inputs and outputs\n",
    "\t- where it's located\n",
    "- this lowers the amount of knowledge needed to use other people's code (or your own)\n",
    "\t- the python standard library is a great example\n",
    "- functions can help us think through how to build a program in isolated chunks, and allow us to compartmentalize parts of the program"
   ]
  },
  {
   "cell_type": "markdown",
   "metadata": {},
   "source": [
    "##### Testing\n",
    "- functions reduce code redundancy, so less code to test in the first place\n",
    "- functions are self-contained, so once we've tested them we don't need to retest them unless we change them directly\n",
    "- reduces the amount of code we need to test at one time"
   ]
  },
  {
   "cell_type": "code",
   "execution_count": null,
   "metadata": {},
   "outputs": [
    {
     "name": "stdout",
     "output_type": "stream",
     "text": [
      "Lawrence, an experienced and sophisticated con artist,\n",
      "enjoys a luxurious lifestyle by tricking wealthy women out of their fortunes.\n",
      "When Freddy, a small-time hustler with a knack for manipulating unsuspecting tourists,\n",
      "arrives in town, he becomes a threat to Lawrence's lucrative schemes.\n",
      "================================================================================\n",
      "lawrence experienced sophisticated artistenjoys luxurious lifestyle tricking wealthy women fortuneswhen freddy smalltime hustler knack manipulating unsuspecting touristsarrives town threat lawrences lucrative schemes\n"
     ]
    }
   ],
   "source": [
    "# EXAMPLE - a series of common text cleaning operations\n",
    "\n",
    "text_sample = '''Lawrence, an experienced and sophisticated con artist,\n",
    "enjoys a luxurious lifestyle by tricking wealthy women out of their fortunes.\n",
    "When Freddy, a small-time hustler with a knack for manipulating unsuspecting tourists,\n",
    "arrives in town, he becomes a threat to Lawrence's lucrative schemes.'''\n",
    "\n",
    "# lowercase\n",
    "text = text_sample.lower()\n",
    "\n",
    "# remove punctuation\n",
    "punct = \"!\\\"#$%&'()*+,-./:;<=>?@[\\]^_`{|}~\"\n",
    "for symbol in punct:\n",
    "\ttext = text.replace(symbol, '')\n",
    "\n",
    "# remove newlines\n",
    "text = text.replace('\\n', '')\n",
    "\n",
    "# split into words\n",
    "text_list = text.split(' ')\n",
    "\n",
    "# remove stopwords\n",
    "from sklearn.feature_extraction.text import ENGLISH_STOP_WORDS\n",
    "stopwords = ENGLISH_STOP_WORDS\n",
    "no_stopwords = []\n",
    "for word in text_list:\n",
    "\tif word not in stopwords:\n",
    "\t\tno_stopwords.append(word)\n",
    "\n",
    "# merge back to single string\n",
    "text = ' '.join(no_stopwords)\n",
    "\n",
    "print(text_sample)\n",
    "print('='*80)\n",
    "print(text)"
   ]
  },
  {
   "cell_type": "code",
   "execution_count": null,
   "metadata": {},
   "outputs": [
    {
     "name": "stdout",
     "output_type": "stream",
     "text": [
      "Ordered some items from amazon, was waiting in for #them, then have a message to say been delivered but iv not recived them.\n",
      "Customer service didn't help much: only interested in making out they will do something.\n",
      "Maybe they should/ stop using any one with a car to deliver and employ more trained delivery drivers..\n",
      "\n",
      "================================================================================\n",
      "ordered items amazon waiting message say delivered iv recived themcustomer service didnt help interested making somethingmaybe stop using car deliver employ trained delivery drivers\n"
     ]
    }
   ],
   "source": [
    "# Text cleaning pipeline\n",
    "\n",
    "def remove_punctuation(text, punctuation):\n",
    "\tfor symbol in punctuation:\n",
    "\t\ttext = text.replace(symbol, '')\n",
    "\treturn text\n",
    "\n",
    "def remove_newlines(text, newline_char='\\n'):\n",
    "\treturn text.replace(newline_char, '')\n",
    "\n",
    "def remove_stopwords(text, stopwords):\n",
    "\tstopwords_set = set(stopwords)\n",
    "\treturn [word for word in text if word not in stopwords_set]\n",
    "\n",
    "def join_words_into_string(word_list):\n",
    "\treturn ' '.join(word_list)\n",
    "\n",
    "def text_cleaning_pipeline(raw_text, punctuation, stopwords):\n",
    "\ttext = raw_text.lower()\n",
    "\tno_punct = remove_punctuation(text, punctuation)\n",
    "\tno_newlines = remove_newlines(no_punct)\n",
    "\tsplit_words = no_newlines.split(' ')\n",
    "\tno_stopwords = remove_stopwords(split_words, stopwords)\n",
    "\tjoined_string = join_words_into_string(no_stopwords)\n",
    "\treturn joined_string\n",
    "\n",
    "\n",
    "##########################################\n",
    "text_sample = '''Lawrence, an experienced and sophisticated con artist,\n",
    "enjoys a luxurious lifestyle by tricking wealthy women out of their fortunes.\n",
    "When Freddy, a small-time hustler with a knack for manipulating unsuspecting tourists,\n",
    "arrives in town, he becomes a threat to Lawrence's lucrative schemes.'''\n",
    "\n",
    "text_sample2 = '''Ordered some items from amazon, was waiting in for #them, then have a message to say been delivered but iv not recived them.\n",
    "Customer service didn't help much: only interested in making out they will do something.\n",
    "Maybe they should/ stop using any one with a car to deliver and employ more trained delivery drivers..\n",
    "'''\n",
    "\n",
    "punct = \"!\\\"#$%&'()*+,-./:;<=>?@[\\]^_`{|}~\"\n",
    "\n",
    "cleaned_text = text_cleaning_pipeline(text_sample2, punct, ENGLISH_STOP_WORDS)\n",
    "print(text_sample2)\n",
    "print('='*80)\n",
    "print(cleaned_text)"
   ]
  },
  {
   "cell_type": "markdown",
   "metadata": {},
   "source": [
    "### Anatomy\n",
    "\n",
    "The format of a function definition is as follows:\n",
    "```python\n",
    "def function_name(param_1, param_2, etc.):\n",
    "\t[code which uses the parameters]\n",
    "\treturn val_1, val_2, etc.\n",
    "```\n",
    "Note that a function need not have any paremeters at all, and does not need to return anything.\n",
    "\n",
    "Elsewhere in our script, we can \"call\" our function as follows, substituting any values we want, and storing its output in a variable\n",
    "```python\n",
    "output = function_name(arg_1, arg_2, etc.)\n",
    "```\n",
    "***\n",
    "##### *Note on arguments vs parameters:*\n",
    "- parameters are the variables in the function definition\n",
    "- arguments are the actual objects/values passed into the function when it's called\n",
    "\n",
    "in the following, `num_of_stars` is a parameter, `88` is an argument.\n",
    "```python\n",
    "def print_stars(num_of_stars):\n",
    "\tprint('*' *  num_of_stars)\n",
    "print_stars(88)\n",
    "```"
   ]
  },
  {
   "cell_type": "code",
   "execution_count": null,
   "metadata": {},
   "outputs": [],
   "source": [
    "def print_stars(num_of_stars):\n",
    "\tprint('*' *  num_of_stars)"
   ]
  },
  {
   "cell_type": "code",
   "execution_count": 20,
   "metadata": {},
   "outputs": [
    {
     "name": "stdout",
     "output_type": "stream",
     "text": [
      "****************************************************************************************************\n"
     ]
    }
   ],
   "source": [
    "print_stars(100)"
   ]
  },
  {
   "cell_type": "markdown",
   "metadata": {
    "vscode": {
     "languageId": "raw"
    }
   },
   "source": [
    "### Best Practices\n",
    "##### General guidelines for good usage of functions"
   ]
  },
  {
   "cell_type": "markdown",
   "metadata": {},
   "source": [
    "1. Descriptive, meaningful function names\n",
    "```python\n",
    "# helpful\n",
    "calculate_weighted_average(values, weights)\n",
    "# unhelpful\n",
    "wa(a, b)\n",
    "```\n"
   ]
  },
  {
   "cell_type": "markdown",
   "metadata": {},
   "source": [
    "2. Small and focused functions (can still be run by a helper function though!)\n",
    "```python\n",
    "# good\n",
    "remove_punctuation(text)\n",
    "# bad\n",
    "process_3(x)\n",
    "```"
   ]
  },
  {
   "cell_type": "markdown",
   "metadata": {},
   "source": [
    "3. Docstrings\n",
    "Keep your future self sane!\n",
    "[Common Doctsring Conventions](https://stackoverflow.com/questions/3898572/what-are-the-most-common-python-docstring-formats)\n",
    "\n",
    "```python\n",
    "def calculate_average(numbers):\n",
    "\t\"\"\"\n",
    "\tCalculate the average of a list of numbers.\n",
    "\t\n",
    "\tArgs:\n",
    "\t\tnumbers (list): A list of numbers.\n",
    "\t\n",
    "\tReturns:\n",
    "\t\tfloat: The average of the numbers.\n",
    "\t\"\"\"\n",
    "\t# function implementation\n",
    "```\n",
    "##### Note the use of triple **double** quotes - per [PEP-257](https://peps.python.org/pep-0257/)"
   ]
  },
  {
   "cell_type": "markdown",
   "metadata": {},
   "source": [
    "4. Readability over cleverness\n",
    "\n",
    "\n",
    "```python\n",
    "# Fibonacci sequence = 0, 1, 1, 2, 3, 5, 8, 13,...\n",
    "\n",
    "# readable\n",
    "def calculate_fibonacci_sequence(n):\n",
    "\t\"\"\"\n",
    "\tCalculate the Fibonacci sequence up to the nth term.\n",
    "\t\n",
    "\tArgs:\n",
    "\t\tn (int): The number of terms to calculate.\n",
    "\t\n",
    "\tReturns:\n",
    "\t\tlist: A list of Fibonacci sequence terms.\n",
    "\t\"\"\"\n",
    "\tsequence = [0, 1]  # Start with the base sequence [0, 1]\n",
    "\t\n",
    "\tif n <= 1:\n",
    "\t\treturn sequence[:n+1]  # Return the first n terms\n",
    "\t\n",
    "\twhile len(sequence) < n+1:\n",
    "\t\tnext_term = sequence[-1] + sequence[-2]  # Calculate the next term\n",
    "\t\tsequence.append(next_term)  # Add the next term to the sequence\n",
    "\t\n",
    "\treturn sequence\n",
    "```\n",
    "\n",
    "```python\n",
    "# clever\n",
    "def calculate_fibonacci_sequence(n):\n",
    "\t\"\"\"\n",
    "\tCalculate the Fibonacci sequence up to the nth term.\n",
    "\t\n",
    "\tArgs:\n",
    "\t\tn (int): The number of terms to calculate.\n",
    "\t\n",
    "\tReturns:\n",
    "\t\tlist: A list of Fibonacci sequence terms.\n",
    "\t\"\"\"\n",
    "\treturn [fib(i) for i in range(n+1)]\n",
    "\t\n",
    "def fib(n):\n",
    "\treturn n if n <= 1 else fib(n-1) + fib(n-2)\n",
    "```\n",
    "***\n",
    "\n",
    "### Reflection: do all of our text cleaning functions follow this rule?"
   ]
  },
  {
   "cell_type": "markdown",
   "metadata": {},
   "source": [
    "## Break Time"
   ]
  },
  {
   "cell_type": "markdown",
   "metadata": {},
   "source": [
    "### Problem Solving Approaches\n",
    "\n",
    "#### Breaking a problem down\n",
    "- smaller tasks are easier to understand/tackle\n",
    "- more potential for modularity and therefore reusability\n",
    "- easier collaboration because team members can easily understand others code\n",
    "\n",
    "#### Pseudocode\n",
    "- further breaking down of the problem solving process\n",
    "- separates the design from the programming\n",
    "- easier to understand version of your approach - easier to spot errors in logic\n"
   ]
  },
  {
   "cell_type": "markdown",
   "metadata": {},
   "source": [
    "#### Sets\n",
    "- a set is an unordered collection of unique items.\n",
    "- defined using curly braces `{}` or the `set()` function.\n",
    "- good for removing duplicates from lists\n",
    "- unordered: items in a set do not have a specific order\n",
    "- unique elements: sets automatically eliminate duplicate entries\n",
    "- mutable: you can add or remove items from a set after its creation\n",
    "- support for mathematical operations: sets can be used for union, intersection, and difference operations"
   ]
  },
  {
   "cell_type": "code",
   "execution_count": 21,
   "metadata": {},
   "outputs": [],
   "source": [
    "my_set = {1, 2, 3}\n",
    "another_set = set([3, 4, 5, 3])"
   ]
  },
  {
   "cell_type": "markdown",
   "metadata": {},
   "source": [
    "##### Set Operations"
   ]
  },
  {
   "cell_type": "code",
   "execution_count": 22,
   "metadata": {},
   "outputs": [
    {
     "data": {
      "text/plain": [
       "{1, 2, 3, 5}"
      ]
     },
     "execution_count": 22,
     "metadata": {},
     "output_type": "execute_result"
    }
   ],
   "source": [
    "# Adding elements\n",
    "my_set.add(5)\n",
    "my_set"
   ]
  },
  {
   "cell_type": "code",
   "execution_count": 23,
   "metadata": {},
   "outputs": [
    {
     "data": {
      "text/plain": [
       "{1, 2, 5}"
      ]
     },
     "execution_count": 23,
     "metadata": {},
     "output_type": "execute_result"
    }
   ],
   "source": [
    "# Removing elements\n",
    "my_set.remove(3)\n",
    "my_set"
   ]
  },
  {
   "cell_type": "code",
   "execution_count": 24,
   "metadata": {},
   "outputs": [
    {
     "data": {
      "text/plain": [
       "{1, 2, 3}"
      ]
     },
     "execution_count": 24,
     "metadata": {},
     "output_type": "execute_result"
    }
   ],
   "source": [
    "set_a = {1, 2, 3, 3}\n",
    "set_a # automatically removes duplicate"
   ]
  },
  {
   "cell_type": "code",
   "execution_count": 25,
   "metadata": {},
   "outputs": [],
   "source": [
    "# Mathematical Operations\n",
    "set_a = {1, 2, 3}\n",
    "set_b = {3, 4, 5}"
   ]
  },
  {
   "cell_type": "code",
   "execution_count": 26,
   "metadata": {},
   "outputs": [
    {
     "data": {
      "text/plain": [
       "{1, 2, 3, 4, 5}"
      ]
     },
     "execution_count": 26,
     "metadata": {},
     "output_type": "execute_result"
    }
   ],
   "source": [
    "union = set_a | set_b\n",
    "union"
   ]
  },
  {
   "cell_type": "code",
   "execution_count": 27,
   "metadata": {},
   "outputs": [
    {
     "data": {
      "text/plain": [
       "{3}"
      ]
     },
     "execution_count": 27,
     "metadata": {},
     "output_type": "execute_result"
    }
   ],
   "source": [
    "intersection = set_a & set_b\n",
    "intersection"
   ]
  },
  {
   "cell_type": "code",
   "execution_count": 28,
   "metadata": {},
   "outputs": [
    {
     "data": {
      "text/plain": [
       "{1, 2}"
      ]
     },
     "execution_count": 28,
     "metadata": {},
     "output_type": "execute_result"
    }
   ],
   "source": [
    "difference = set_a - set_b\n",
    "difference"
   ]
  },
  {
   "cell_type": "code",
   "execution_count": 30,
   "metadata": {},
   "outputs": [],
   "source": [
    "lst_of_nums = [1, 2, 3, 4, 5, 6, 7, 8, 9, 10, 1, 2, 3, 4, 5, 6, 7, 8, 9, 10]"
   ]
  },
  {
   "cell_type": "code",
   "execution_count": 39,
   "metadata": {},
   "outputs": [
    {
     "data": {
      "text/plain": [
       "[1, 2]"
      ]
     },
     "execution_count": 39,
     "metadata": {},
     "output_type": "execute_result"
    }
   ],
   "source": [
    "lst_of_nums[:2]"
   ]
  },
  {
   "cell_type": "code",
   "execution_count": 40,
   "metadata": {},
   "outputs": [],
   "source": [
    "d = {\"bread\": 5, \"peppers\": 3, \"cereal\": 8}"
   ]
  },
  {
   "cell_type": "code",
   "execution_count": 43,
   "metadata": {},
   "outputs": [],
   "source": [
    "d[\"milk\"] = 6"
   ]
  },
  {
   "cell_type": "code",
   "execution_count": 44,
   "metadata": {},
   "outputs": [
    {
     "data": {
      "text/plain": [
       "{'bread': 5, 'peppers': 3, 'cereal': 8, 'milk': 6}"
      ]
     },
     "execution_count": 44,
     "metadata": {},
     "output_type": "execute_result"
    }
   ],
   "source": [
    "d"
   ]
  },
  {
   "cell_type": "code",
   "execution_count": 31,
   "metadata": {},
   "outputs": [
    {
     "data": {
      "text/plain": [
       "[1, 2, 3, 4, 5, 6, 7, 8, 9, 10]"
      ]
     },
     "execution_count": 31,
     "metadata": {},
     "output_type": "execute_result"
    }
   ],
   "source": [
    "unique = list(set(lst_of_nums))\n",
    "unique"
   ]
  },
  {
   "cell_type": "code",
   "execution_count": 50,
   "metadata": {},
   "outputs": [],
   "source": [
    "t = (1, 2, 3)"
   ]
  },
  {
   "cell_type": "code",
   "execution_count": 52,
   "metadata": {},
   "outputs": [],
   "source": [
    "t = t + (4,)"
   ]
  },
  {
   "cell_type": "code",
   "execution_count": 53,
   "metadata": {},
   "outputs": [
    {
     "data": {
      "text/plain": [
       "(1, 2, 3, 4)"
      ]
     },
     "execution_count": 53,
     "metadata": {},
     "output_type": "execute_result"
    }
   ],
   "source": [
    "t"
   ]
  },
  {
   "cell_type": "markdown",
   "metadata": {},
   "source": [
    "#### Lists, Sets, Tuples, Dictionaries\n",
    "- how do we choose which one to use?\n",
    "- are they all mutable/immutable?\n",
    "- does order matter?\n",
    "- do duplicates matter?\n",
    "- do we need an identifier for each item stored?"
   ]
  },
  {
   "cell_type": "markdown",
   "metadata": {},
   "source": [
    "##### Examples\n",
    "- shopping list where the most important items are at the top and we may not have time to retrieve all items\n",
    "- identify common numbers from two groups\n",
    "- store all of the different words in a sentence\n",
    "- the output of a function that returns multiple items\n",
    "- catalogue item prices by referencing their name\n",
    "- a to-do list where a task may need to be completed after another task has been completed\n",
    "- a pair of coordinates where the order and values must never change\n",
    "- store phone number by referencing a persons name"
   ]
  },
  {
   "cell_type": "markdown",
   "metadata": {},
   "source": [
    "##### Answers\n",
    "- list\n",
    "- set\n",
    "- set\n",
    "- tuple\n",
    "- dictionary\n",
    "- list\n",
    "- tuple\n",
    "- dictionary"
   ]
  },
  {
   "cell_type": "markdown",
   "metadata": {},
   "source": [
    "### Challenge: *rot13*\n",
    "\n",
    "- ROT13 is a simple substitution cipher that replaces each letter with the letter 13 places after it in the alphabet. it \"rotates\" the alphabet by 13 positions\n",
    "- since the alphabet has 26 letters, applying ROT13 twice returns the original text"
   ]
  },
  {
   "cell_type": "code",
   "execution_count": null,
   "metadata": {},
   "outputs": [],
   "source": [
    "def rot13(message):\n",
    "\t\n",
    "\t\"\"\"code this up so that we can encrypt messages!\"\"\"\n",
    "\t\t\t\n",
    "\treturn coded_message"
   ]
  },
  {
   "cell_type": "code",
   "execution_count": 65,
   "metadata": {},
   "outputs": [],
   "source": [
    "message = '''Lawrence, an experienced and sophisticated con artist,\n",
    "enjoys a luxurious lifestyle by tricking wealthy women out of their fortunes.\n",
    "When Freddy, a small-time hustler with a knack for manipulating unsuspecting tourists,\n",
    "arrives in town, he becomes a threat to Lawrences lucrative schemes.'''"
   ]
  },
  {
   "cell_type": "code",
   "execution_count": 66,
   "metadata": {},
   "outputs": [],
   "source": [
    "coded_message = rot13(message)"
   ]
  },
  {
   "cell_type": "code",
   "execution_count": 67,
   "metadata": {},
   "outputs": [
    {
     "data": {
      "text/plain": [
       "'Ynjerapr, na rkcrevraprq naq fbcuvfgvpngrq pba negvfg,rawblf n yhkhevbhf yvsrfglyr ol gevpxvat jrnygul jbzra bhg bs gurve sbegharf.Jura Serqql, n fznyy-gvzr uhfgyre jvgu n xanpx sbe znavchyngvat hafhfcrpgvat gbhevfgf,neevirf va gbja, ur orpbzrf n guerng gb Ynjeraprf yhpengvir fpurzrf.'"
      ]
     },
     "execution_count": 67,
     "metadata": {},
     "output_type": "execute_result"
    }
   ],
   "source": [
    "coded_message"
   ]
  },
  {
   "cell_type": "code",
   "execution_count": 69,
   "metadata": {},
   "outputs": [],
   "source": [
    "decoded_message = rot13(coded_message)"
   ]
  },
  {
   "cell_type": "code",
   "execution_count": 70,
   "metadata": {},
   "outputs": [
    {
     "data": {
      "text/plain": [
       "'Lawrence, an experienced and sophisticated con artist,enjoys a luxurious lifestyle by tricking wealthy women out of their fortunes.When Freddy, a small-time hustler with a knack for manipulating unsuspecting tourists,arrives in town, he becomes a threat to Lawrences lucrative schemes.'"
      ]
     },
     "execution_count": 70,
     "metadata": {},
     "output_type": "execute_result"
    }
   ],
   "source": [
    "decoded_message"
   ]
  }
 ],
 "metadata": {
  "kernelspec": {
   "display_name": "Python 3",
   "language": "python",
   "name": "python3"
  },
  "language_info": {
   "codemirror_mode": {
    "name": "ipython",
    "version": 3
   },
   "file_extension": ".py",
   "mimetype": "text/x-python",
   "name": "python",
   "nbconvert_exporter": "python",
   "pygments_lexer": "ipython3",
   "version": "3.11.9"
  }
 },
 "nbformat": 4,
 "nbformat_minor": 2
}
